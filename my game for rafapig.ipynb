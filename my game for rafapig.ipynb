{
 "cells": [
  {
   "cell_type": "raw",
   "metadata": {},
   "source": []
  },
  {
   "cell_type": "code",
   "execution_count": 4,
   "metadata": {},
   "outputs": [
    {
     "name": "stdout",
     "output_type": "stream",
     "text": [
      "this is game about a day in a life of RafaPIg and you will get to chose what you want him to do today\n",
      "he will start his day wiith a shower\n"
     ]
    }
   ],
   "source": [
    "print(\"this is game about a day in a life of RafaPIg and you will get to chose what you want him to do today\")\n",
    "\n",
    "\n",
    "\n",
    "print(\"he will start his day wiith a shower\")"
   ]
  },
  {
   "cell_type": "code",
   "execution_count": 1,
   "metadata": {},
   "outputs": [],
   "source": [
    "line1=\"hello rafapig i love you and have a good day at rafapigs room\"\n",
    "\n",
    "def rafapigslovelife():\n",
    "    print(line1)"
   ]
  },
  {
   "cell_type": "code",
   "execution_count": 2,
   "metadata": {},
   "outputs": [
    {
     "name": "stdout",
     "output_type": "stream",
     "text": [
      "hello rafapig i love you and have a good day at rafapigs room\n"
     ]
    }
   ],
   "source": [
    "rafapigslovelife()"
   ]
  },
  {
   "cell_type": "code",
   "execution_count": 9,
   "metadata": {},
   "outputs": [
    {
     "name": "stdout",
     "output_type": "stream",
     "text": [
      "would you like rafapig to take a shower in mud or water a for mud and b for watera\n",
      "mud rafapig\n"
     ]
    }
   ],
   "source": [
    "greeting=input(\"would you like rafapig to take a shower in mud or water a for mud and b for water\")\n",
    "if greeting == 'a':\n",
    "        print('mud rafapig')\n",
    "if greeting == 'b':\n",
    "    print('clean rafapig')"
   ]
  },
  {
   "cell_type": "code",
   "execution_count": 1,
   "metadata": {},
   "outputs": [
    {
     "name": "stdout",
     "output_type": "stream",
     "text": [
      "would you like rafapig to have friends? a for yes and b for noa\n",
      "Yay for friends!\n"
     ]
    }
   ],
   "source": [
    "greeting=input(\"would you like rafapig to have friends? a for yes and b for no\")\n",
    "if greeting == \"a\":\n",
    "    print(\"Yay for friends!\")\n",
    "if greeting == \"b\":\n",
    "    print(\"want a sad little pig with no friends\")"
   ]
  },
  {
   "cell_type": "code",
   "execution_count": 5,
   "metadata": {},
   "outputs": [
    {
     "name": "stdout",
     "output_type": "stream",
     "text": [
      "should RafaPig take the bus or walk ten miles back home? a for bus and b for walkingb\n",
      "man good thing RafaPig put on his sketchers before he left his house\n"
     ]
    }
   ],
   "source": [
    "greeting=input(\"should RafaPig take the bus or walk ten miles back home? a for bus and b for walking\")\n",
    "if greeting == 'a':\n",
    "    print(\"RafaPig is going like not having to walk home today\")\n",
    "if greeting == \"b\":\n",
    "    print(\"man good thing RafaPig put on his sketchers before he left his house\")\n"
   ]
  },
  {
   "cell_type": "code",
   "execution_count": 6,
   "metadata": {},
   "outputs": [
    {
     "name": "stdout",
     "output_type": "stream",
     "text": [
      "what should RafaPig eat? a for super cool ice cream with cool ice or B for some hot ice creamb\n",
      "RafaPig like hot ice cream with some hot no kizzy\n"
     ]
    }
   ],
   "source": [
    "greeting=input(\"what should RafaPig eat? a for super cool ice cream with cool ice or B for some hot ice cream\")\n",
    "if greeting == \"a\":\n",
    "    print(\"RafaPig do like his super cool ice cream\")\n",
    "if greeting == \"b\":\n",
    "    print(\"RafaPig like hot ice cream with some hot no kizzy\")"
   ]
  },
  {
   "cell_type": "code",
   "execution_count": 7,
   "metadata": {},
   "outputs": [
    {
     "name": "stdout",
     "output_type": "stream",
     "text": [
      "where should RafaPIg sleep at? on a rock outside of his house with the rain or inside with some hot cookies and witha dog bed. a for rock or b for dog beda\n",
      " RafaPig is not going to like this one \n"
     ]
    }
   ],
   "source": [
    "greeting=input(\"where should RafaPIg sleep at? on a rock outside of his house with the rain or inside with some hot cookies and witha dog bed. a for rock or b for dog bed\")\n",
    "if greeting == \"a\":\n",
    "    print(\" RafaPig is not going to like this one \")\n",
    "if greeting == \"b\":\n",
    "    print(\"RafaPig is very happy with this dog bed and with the cookies\")\n",
    "            "
   ]
  },
  {
   "cell_type": "code",
   "execution_count": 8,
   "metadata": {},
   "outputs": [
    {
     "name": "stdout",
     "output_type": "stream",
     "text": [
      "this is the end of RafaPigs day and I hope you enjoyed coming along with RafaPig of his day\n"
     ]
    }
   ],
   "source": [
    "print(\"this is the end of RafaPigs day and I hope you enjoyed coming along with RafaPig of his day\")"
   ]
  },
  {
   "cell_type": "code",
   "execution_count": null,
   "metadata": {},
   "outputs": [],
   "source": []
  }
 ],
 "metadata": {
  "kernelspec": {
   "display_name": "Python 3",
   "language": "python",
   "name": "python3"
  },
  "language_info": {
   "codemirror_mode": {
    "name": "ipython",
    "version": 3
   },
   "file_extension": ".py",
   "mimetype": "text/x-python",
   "name": "python",
   "nbconvert_exporter": "python",
   "pygments_lexer": "ipython3",
   "version": "3.7.6"
  }
 },
 "nbformat": 4,
 "nbformat_minor": 4
}
